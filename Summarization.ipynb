{
 "cells": [
  {
   "cell_type": "code",
   "execution_count": 25,
   "metadata": {},
   "outputs": [],
   "source": [
    "import tkinter as tk\n",
    "from tkinter import scrolledtext\n",
    "from tkinter import messagebox\n",
    "from sklearn.model_selection import train_test_split\n",
    "from sklearn.feature_extraction.text import TfidfVectorizer\n",
    "from sklearn.linear_model import LogisticRegression\n",
    "from sklearn.ensemble import RandomForestClassifier\n",
    "from sklearn.naive_bayes import MultinomialNB  \n",
    "from sklearn.svm import SVC  \n",
    "from sklearn.metrics import accuracy_score\n"
   ]
  },
  {
   "cell_type": "markdown",
   "metadata": {},
   "source": [
    "# Load dataset"
   ]
  },
  {
   "cell_type": "code",
   "execution_count": 26,
   "metadata": {},
   "outputs": [],
   "source": [
    "def load_dataset(file_path):\n",
    "    with open(file_path, 'r') as file:\n",
    "        lines = file.readlines()\n",
    "    \n",
    "    X, y = [], []\n",
    "    for line in lines:\n",
    "        line = line.strip()  # Remove whitespace\n",
    "        \n",
    "        if not line:  # Skip empty lines\n",
    "            continue\n",
    "        \n",
    "        parts = line.split('||')\n",
    "        if len(parts) == 2:\n",
    "            X.append(parts[0])\n",
    "            y.append(parts[1].strip())  # remove whitespace from the summary\n",
    "        else:\n",
    "            print(f\"Ignoring line: {line}\")  # Print the problematic line for debugging\n",
    "    \n",
    "    if len(X) == 0:\n",
    "        raise ValueError(\"No valid data found in the file.\")\n",
    "    \n",
    "    return X, y\n"
   ]
  },
  {
   "cell_type": "markdown",
   "metadata": {},
   "source": [
    "# Train and test "
   ]
  },
  {
   "cell_type": "code",
   "execution_count": 27,
   "metadata": {},
   "outputs": [],
   "source": [
    "def train_test_models(X, y):\n",
    "    if len(X) == 0:\n",
    "        raise ValueError(\"No data available for training.\")\n",
    "\n",
    "    # Split data into train and test sets\n",
    "    X_train, X_test, y_train, y_test = train_test_split(X, y, test_size=0.1, random_state=42)\n",
    "    \n",
    "    # Vectorize text data\n",
    "    vectorizer = TfidfVectorizer()\n",
    "    X_train_vect = vectorizer.fit_transform(X_train)\n",
    "    X_test_vect = vectorizer.transform(X_test)\n",
    "    \n",
    "    # Train models\n",
    "    logistic_reg_model = LogisticRegression()\n",
    "    logistic_reg_model.fit(X_train_vect, y_train)\n",
    "    \n",
    "    random_forest_model = RandomForestClassifier()\n",
    "    random_forest_model.fit(X_train_vect, y_train)\n",
    "    \n",
    "    \n",
    "    naive_bayes_model = MultinomialNB()\n",
    "    naive_bayes_model.fit(X_train_vect, y_train)\n",
    "    \n",
    "    svm_model = SVC()\n",
    "    svm_model.fit(X_train_vect, y_train)\n",
    "    \n",
    "    # Evaluate models\n",
    "    logistic_reg_pred = logistic_reg_model.predict(X_test_vect)\n",
    "    random_forest_pred = random_forest_model.predict(X_test_vect)\n",
    "    naive_bayes_pred = naive_bayes_model.predict(X_test_vect)\n",
    "    svm_pred = svm_model.predict(X_test_vect)\n",
    "    \n",
    "    # Calculate accuracy\n",
    "    logistic_reg_accuracy = accuracy_score(y_test, logistic_reg_pred) * 100\n",
    "    random_forest_accuracy = accuracy_score(y_test, random_forest_pred) * 100\n",
    "    naive_bayes_accuracy = accuracy_score(y_test, naive_bayes_pred) * 100\n",
    "    svm_accuracy = accuracy_score(y_test, svm_pred) * 100\n",
    "    \n",
    "    return logistic_reg_accuracy, random_forest_accuracy, naive_bayes_accuracy, svm_accuracy, logistic_reg_model, random_forest_model, naive_bayes_model, svm_model\n"
   ]
  },
  {
   "cell_type": "code",
   "execution_count": 28,
   "metadata": {},
   "outputs": [],
   "source": [
    "def summarize_text(input_text, best_model):\n",
    "    try:\n",
    "        with open('Data_Summaryy.txt', 'r') as file:\n",
    "            lines = file.readlines()\n",
    "            data_dict = {}\n",
    "            for line in lines:\n",
    "                parts = line.split('||')\n",
    "                if len(parts) == 2:\n",
    "                    data_dict[parts[0].strip()] = parts[1].strip()\n",
    "\n",
    "            summary = data_dict.get(input_text, \"No summary found\")\n",
    "            return summary\n",
    "    except FileNotFoundError:\n",
    "        messagebox.showerror(\"Error\", \"Data file not found.\")"
   ]
  },
  {
   "cell_type": "markdown",
   "metadata": {},
   "source": [
    "# Load and preprocess dataset"
   ]
  },
  {
   "cell_type": "code",
   "execution_count": 29,
   "metadata": {},
   "outputs": [
    {
     "name": "stdout",
     "output_type": "stream",
     "text": [
      "Ignoring line: On cloud nine.||Extremely happy.2340. All that glitters is not gold.||All that glitters is not gold.\n",
      "Loaded X samples:\n",
      "['Text', 'The sun rises in the east and sets in the west.', 'Cats are furry animals that love to sleep.', 'Coding is a skill that can be learned with practice.', 'The world is full of wonders waiting to be explored.']\n",
      "Loaded y samples:\n",
      "['Summary', 'Sun rises and sets.', 'Cats love to sleep.', 'Coding can be learned with practice.', 'World is full of wonders.']\n",
      "Logistic Regression Accuracy: 91.61490683229813\n",
      "Random Forest Accuracy: 54.6583850931677\n",
      "Naive Bayes Accuracy: 80.74534161490683\n",
      "SVM Accuracy: 74.22360248447205\n"
     ]
    }
   ],
   "source": [
    "try:\n",
    "    X, y = load_dataset('Data_Summary.txt')\n",
    "    \n",
    "    # Print loaded data\n",
    "    print(\"Loaded X samples:\")\n",
    "    print(X[:5])  # Print the first 5 samples\n",
    "    print(\"Loaded y samples:\")\n",
    "    print(y[:5])  # Print the corresponding summaries for the first 5 samples\n",
    "\n",
    "    # Train and test machine learning models\n",
    "    logistic_reg_accuracy, random_forest_accuracy, naive_bayes_accuracy, svm_accuracy, logistic_reg_model, random_forest_model, naive_bayes_model, svm_model = train_test_models(X, y)\n",
    "    print(\"Logistic Regression Accuracy:\", logistic_reg_accuracy)\n",
    "    print(\"Random Forest Accuracy:\", random_forest_accuracy)\n",
    "    print(\"Naive Bayes Accuracy:\", naive_bayes_accuracy)\n",
    "    print(\"SVM Accuracy:\", svm_accuracy)\n",
    "\n",
    "    # Select the best model based on accuracy\n",
    "    best_model = logistic_reg_model if logistic_reg_accuracy > max(random_forest_accuracy, naive_bayes_accuracy, svm_accuracy) else random_forest_model if random_forest_accuracy > max(naive_bayes_accuracy, svm_accuracy) else naive_bayes_model if naive_bayes_accuracy > svm_accuracy else svm_model\n",
    "\n",
    "except ValueError as e:\n",
    "    print(e)\n",
    "    logistic_reg_accuracy, random_forest_accuracy, naive_bayes_accuracy, svm_accuracy = 0, 0, 0, 0\n"
   ]
  },
  {
   "cell_type": "markdown",
   "metadata": {},
   "source": [
    "# Create the main window"
   ]
  },
  {
   "cell_type": "code",
   "execution_count": 30,
   "metadata": {},
   "outputs": [],
   "source": [
    "root = tk.Tk()\n",
    "root.title(\"Text Summarizer\")\n",
    "\n",
    "# Input text box\n",
    "input_label = tk.Label(root, text=\"Enter text:\")\n",
    "input_label.pack()\n",
    "input_text_box = scrolledtext.ScrolledText(root, width=40, height=10)\n",
    "input_text_box.pack()\n",
    "\n",
    "# Button to summarize\n",
    "summarize_button = tk.Button(root, text=\"Summarize\", command=lambda: summarize_text_gui(input_text_box.get(\"1.0\",'end-1c'), best_model))\n",
    "summarize_button.pack()\n",
    "\n",
    "# Summary text box\n",
    "summary_label = tk.Label(root, text=\"Summary:\")\n",
    "summary_label.pack()\n",
    "summary_text_box = scrolledtext.ScrolledText(root, width=40, height=5)\n",
    "summary_text_box.pack()\n",
    "\n",
    "# Display model evaluation results\n",
    "logistic_reg_accuracy_label = tk.Label(root, text=f\"Logistic Regression Accuracy: {logistic_reg_accuracy:.2f}%\")\n",
    "logistic_reg_accuracy_label.pack()\n",
    "\n",
    "random_forest_accuracy_label = tk.Label(root, text=f\"Random Forest Accuracy: {random_forest_accuracy:.2f}%\")\n",
    "random_forest_accuracy_label.pack()\n",
    "\n",
    "naive_bayes_accuracy_label = tk.Label(root, text=f\"Naive Bayes Accuracy: {naive_bayes_accuracy:.2f}%\")\n",
    "naive_bayes_accuracy_label.pack()\n",
    "\n",
    "svm_accuracy_label = tk.Label(root, text=f\"SVM Accuracy: {svm_accuracy:.2f}%\")\n",
    "svm_accuracy_label.pack()\n"
   ]
  },
  {
   "cell_type": "code",
   "execution_count": 31,
   "metadata": {},
   "outputs": [],
   "source": [
    "def summarize_text_gui(input_text, best_model):\n",
    "    try:\n",
    "        summary = summarize_text(input_text, best_model)\n",
    "        summary_text_box.delete('1.0', tk.END)\n",
    "        summary_text_box.insert(tk.END, summary)\n",
    "    except FileNotFoundError:\n",
    "        messagebox.showerror(\"Error\", \"Data file not found.\")\n",
    "\n",
    "\n",
    "root.mainloop()\n"
   ]
  }
 ],
 "metadata": {
  "kernelspec": {
   "display_name": "Python 3",
   "language": "python",
   "name": "python3"
  },
  "language_info": {
   "codemirror_mode": {
    "name": "ipython",
    "version": 3
   },
   "file_extension": ".py",
   "mimetype": "text/x-python",
   "name": "python",
   "nbconvert_exporter": "python",
   "pygments_lexer": "ipython3",
   "version": "3.11.9"
  }
 },
 "nbformat": 4,
 "nbformat_minor": 2
}
